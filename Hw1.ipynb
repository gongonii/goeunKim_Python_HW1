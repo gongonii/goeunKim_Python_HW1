{
 "cells": [
  {
   "cell_type": "code",
   "execution_count": 72,
   "id": "82816c4b",
   "metadata": {},
   "outputs": [
    {
     "name": "stdout",
     "output_type": "stream",
     "text": [
      "선택하세요(1:추가, 2:삭제, 3:종료)-->1\n",
      "추가할 데이터-->('1',150)\n",
      "[\"('1',150)\"]\n",
      "선택하세요(1:추가, 2:삭제, 3:종료)-->1\n",
      "추가할 데이터-->('2', 200)\n",
      "[\"('1',150)\", \"('2', 200)\"]\n",
      "선택하세요(1:추가, 2:삭제, 3:종료)-->1\n",
      "추가할 데이터-->('3', 170)\n",
      "[\"('1',150)\", \"('2', 200)\", \"('3', 170)\"]\n"
     ]
    },
    {
     "ename": "KeyboardInterrupt",
     "evalue": "Interrupted by user",
     "output_type": "error",
     "traceback": [
      "\u001b[1;31m---------------------------------------------------------------------------\u001b[0m",
      "\u001b[1;31mKeyboardInterrupt\u001b[0m                         Traceback (most recent call last)",
      "Input \u001b[1;32mIn [72]\u001b[0m, in \u001b[0;36m<cell line: 9>\u001b[1;34m()\u001b[0m\n\u001b[0;32m      9\u001b[0m \u001b[38;5;28;01mif\u001b[39;00m \u001b[38;5;18m__name__\u001b[39m\u001b[38;5;241m==\u001b[39m\u001b[38;5;124m\"\u001b[39m\u001b[38;5;124m__main__\u001b[39m\u001b[38;5;124m\"\u001b[39m:\n\u001b[0;32m     11\u001b[0m     \u001b[38;5;28;01mwhile\u001b[39;00m \u001b[38;5;28;01mTrue\u001b[39;00m:\n\u001b[1;32m---> 12\u001b[0m         select \u001b[38;5;241m=\u001b[39m \u001b[38;5;28mint\u001b[39m(\u001b[38;5;28;43minput\u001b[39;49m\u001b[43m(\u001b[49m\u001b[38;5;124;43m\"\u001b[39;49m\u001b[38;5;124;43m선택하세요(1:추가, 2:삭제, 3:종료)-->\u001b[39;49m\u001b[38;5;124;43m\"\u001b[39;49m\u001b[43m)\u001b[49m)\n\u001b[0;32m     14\u001b[0m         \u001b[38;5;28;01mif\u001b[39;00m (select \u001b[38;5;241m==\u001b[39m\u001b[38;5;241m1\u001b[39m):        \n\u001b[0;32m     15\u001b[0m                 data \u001b[38;5;241m=\u001b[39m \u001b[38;5;28minput\u001b[39m(\u001b[38;5;124m\"\u001b[39m\u001b[38;5;124m추가할 데이터-->\u001b[39m\u001b[38;5;124m\"\u001b[39m)   \n",
      "File \u001b[1;32m~\\anaconda3\\lib\\site-packages\\ipykernel\\kernelbase.py:1075\u001b[0m, in \u001b[0;36mKernel.raw_input\u001b[1;34m(self, prompt)\u001b[0m\n\u001b[0;32m   1071\u001b[0m \u001b[38;5;28;01mif\u001b[39;00m \u001b[38;5;129;01mnot\u001b[39;00m \u001b[38;5;28mself\u001b[39m\u001b[38;5;241m.\u001b[39m_allow_stdin:\n\u001b[0;32m   1072\u001b[0m     \u001b[38;5;28;01mraise\u001b[39;00m StdinNotImplementedError(\n\u001b[0;32m   1073\u001b[0m         \u001b[38;5;124m\"\u001b[39m\u001b[38;5;124mraw_input was called, but this frontend does not support input requests.\u001b[39m\u001b[38;5;124m\"\u001b[39m\n\u001b[0;32m   1074\u001b[0m     )\n\u001b[1;32m-> 1075\u001b[0m \u001b[38;5;28;01mreturn\u001b[39;00m \u001b[38;5;28;43mself\u001b[39;49m\u001b[38;5;241;43m.\u001b[39;49m\u001b[43m_input_request\u001b[49m\u001b[43m(\u001b[49m\n\u001b[0;32m   1076\u001b[0m \u001b[43m    \u001b[49m\u001b[38;5;28;43mstr\u001b[39;49m\u001b[43m(\u001b[49m\u001b[43mprompt\u001b[49m\u001b[43m)\u001b[49m\u001b[43m,\u001b[49m\n\u001b[0;32m   1077\u001b[0m \u001b[43m    \u001b[49m\u001b[38;5;28;43mself\u001b[39;49m\u001b[38;5;241;43m.\u001b[39;49m\u001b[43m_parent_ident\u001b[49m\u001b[43m[\u001b[49m\u001b[38;5;124;43m\"\u001b[39;49m\u001b[38;5;124;43mshell\u001b[39;49m\u001b[38;5;124;43m\"\u001b[39;49m\u001b[43m]\u001b[49m\u001b[43m,\u001b[49m\n\u001b[0;32m   1078\u001b[0m \u001b[43m    \u001b[49m\u001b[38;5;28;43mself\u001b[39;49m\u001b[38;5;241;43m.\u001b[39;49m\u001b[43mget_parent\u001b[49m\u001b[43m(\u001b[49m\u001b[38;5;124;43m\"\u001b[39;49m\u001b[38;5;124;43mshell\u001b[39;49m\u001b[38;5;124;43m\"\u001b[39;49m\u001b[43m)\u001b[49m\u001b[43m,\u001b[49m\n\u001b[0;32m   1079\u001b[0m \u001b[43m    \u001b[49m\u001b[43mpassword\u001b[49m\u001b[38;5;241;43m=\u001b[39;49m\u001b[38;5;28;43;01mFalse\u001b[39;49;00m\u001b[43m,\u001b[49m\n\u001b[0;32m   1080\u001b[0m \u001b[43m\u001b[49m\u001b[43m)\u001b[49m\n",
      "File \u001b[1;32m~\\anaconda3\\lib\\site-packages\\ipykernel\\kernelbase.py:1120\u001b[0m, in \u001b[0;36mKernel._input_request\u001b[1;34m(self, prompt, ident, parent, password)\u001b[0m\n\u001b[0;32m   1117\u001b[0m             \u001b[38;5;28;01mbreak\u001b[39;00m\n\u001b[0;32m   1118\u001b[0m \u001b[38;5;28;01mexcept\u001b[39;00m \u001b[38;5;167;01mKeyboardInterrupt\u001b[39;00m:\n\u001b[0;32m   1119\u001b[0m     \u001b[38;5;66;03m# re-raise KeyboardInterrupt, to truncate traceback\u001b[39;00m\n\u001b[1;32m-> 1120\u001b[0m     \u001b[38;5;28;01mraise\u001b[39;00m \u001b[38;5;167;01mKeyboardInterrupt\u001b[39;00m(\u001b[38;5;124m\"\u001b[39m\u001b[38;5;124mInterrupted by user\u001b[39m\u001b[38;5;124m\"\u001b[39m) \u001b[38;5;28;01mfrom\u001b[39;00m \u001b[38;5;28mNone\u001b[39m\n\u001b[0;32m   1121\u001b[0m \u001b[38;5;28;01mexcept\u001b[39;00m \u001b[38;5;167;01mException\u001b[39;00m:\n\u001b[0;32m   1122\u001b[0m     \u001b[38;5;28mself\u001b[39m\u001b[38;5;241m.\u001b[39mlog\u001b[38;5;241m.\u001b[39mwarning(\u001b[38;5;124m\"\u001b[39m\u001b[38;5;124mInvalid Message:\u001b[39m\u001b[38;5;124m\"\u001b[39m, exc_info\u001b[38;5;241m=\u001b[39m\u001b[38;5;28;01mTrue\u001b[39;00m)\n",
      "\u001b[1;31mKeyboardInterrupt\u001b[0m: Interrupted by user"
     ]
    }
   ],
   "source": [
    "def add_data(friend):\n",
    "    \n",
    "    katok.append(None)\n",
    "    kLen = len(katok)\n",
    "    katok[kLen-1]=friend\n",
    "    \n",
    "katok = []\n",
    "\n",
    "if __name__==\"__main__\":\n",
    "    \n",
    "    while True:\n",
    "        select = int(input(\"선택하세요(1:추가, 2:삭제, 3:종료)-->\"))\n",
    "\n",
    "        if (select ==1):        \n",
    "                data = input(\"추가할 데이터-->\")   \n",
    "                add_data(data)\n",
    "                \n",
    "                \n",
    "                for i in range(len(katok)):\n",
    "                    for j in range(len(katok)):\n",
    "                        if katok[i][1]<katok[j][1]:\n",
    "                            temp = katok[i]\n",
    "                            katok[i] = katok[j]\n",
    "                            katok[j] = temp\n",
    "                    \n",
    "                print(katok)\n",
    "                \n",
    "        \n",
    "       \n",
    "        elif (select==2):\n",
    "            pos=int(input(\"삭제할 순서-->\"))\n",
    "\n",
    "            if pos < 0 or pos > len(katok):\n",
    "                print(\"삭제할 데이터가 존재하지 않습니다.\")\n",
    "                continue                                      # 범위 밖 오류 출력\n",
    "\n",
    "            del katok[pos - 1]\n",
    "            print(katok)\n",
    "\n",
    "        elif (select==3):\n",
    "            print(katok)\n",
    "            break\n"
   ]
  },
  {
   "cell_type": "code",
   "execution_count": 103,
   "id": "1d2069a6",
   "metadata": {},
   "outputs": [
    {
     "name": "stdout",
     "output_type": "stream",
     "text": [
      "추가할 데이터-->(\"형진\",100)\n",
      "[('형진', 100)]\n",
      "추가할 데이터-->(\"고은\",200)\n",
      "[('형진', 100), ('고은', 200)]\n",
      "추가할 데이터-->(\"형우\",150)\n"
     ]
    },
    {
     "ename": "TypeError",
     "evalue": "'tuple' object does not support item assignment",
     "output_type": "error",
     "traceback": [
      "\u001b[1;31m---------------------------------------------------------------------------\u001b[0m",
      "\u001b[1;31mTypeError\u001b[0m                                 Traceback (most recent call last)",
      "Input \u001b[1;32mIn [103]\u001b[0m, in \u001b[0;36m<cell line: 4>\u001b[1;34m()\u001b[0m\n\u001b[0;32m      9\u001b[0m         \u001b[38;5;28;01mif\u001b[39;00m lst[i\u001b[38;5;241m-\u001b[39m\u001b[38;5;241m1\u001b[39m][\u001b[38;5;241m1\u001b[39m] \u001b[38;5;241m>\u001b[39m\u001b[38;5;241m=\u001b[39m lst[i][\u001b[38;5;241m1\u001b[39m]:\n\u001b[0;32m     10\u001b[0m             temp \u001b[38;5;241m=\u001b[39m lst[i\u001b[38;5;241m-\u001b[39m\u001b[38;5;241m1\u001b[39m][\u001b[38;5;241m1\u001b[39m]\n\u001b[1;32m---> 11\u001b[0m             lst[i\u001b[38;5;241m-\u001b[39m\u001b[38;5;241m1\u001b[39m][\u001b[38;5;241m1\u001b[39m] \u001b[38;5;241m=\u001b[39m lst[i][\u001b[38;5;241m1\u001b[39m]\n\u001b[0;32m     12\u001b[0m             lst[i][\u001b[38;5;241m1\u001b[39m] \u001b[38;5;241m=\u001b[39m temp\n\u001b[0;32m     13\u001b[0m \u001b[38;5;28mprint\u001b[39m(lst)\n",
      "\u001b[1;31mTypeError\u001b[0m: 'tuple' object does not support item assignment"
     ]
    }
   ],
   "source": [
    "lst = []\n",
    "while 1:\n",
    "    \n",
    "    data = eval(input(\"추가할 데이터-->\"))   \n",
    "    lst.append(data)\n",
    "    for j in range(len(lst)):\n",
    "        k = len(lst) - j\n",
    "        for i in range(1, k):\n",
    "            if lst[i-1][1] >= lst[i][1]:\n",
    "                temp = lst[i-1][1]\n",
    "                lst[i-1][1] = lst[i][1]\n",
    "                lst[i][1] = temp\n",
    "    print(lst)\n",
    "                "
   ]
  },
  {
   "cell_type": "code",
   "execution_count": 91,
   "id": "e2db9687",
   "metadata": {},
   "outputs": [],
   "source": [
    "lst = [0,1,3]\n",
    "lst.append(4)"
   ]
  },
  {
   "cell_type": "code",
   "execution_count": null,
   "id": "12c20579",
   "metadata": {},
   "outputs": [],
   "source": []
  }
 ],
 "metadata": {
  "kernelspec": {
   "display_name": "Python 3 (ipykernel)",
   "language": "python",
   "name": "python3"
  },
  "language_info": {
   "codemirror_mode": {
    "name": "ipython",
    "version": 3
   },
   "file_extension": ".py",
   "mimetype": "text/x-python",
   "name": "python",
   "nbconvert_exporter": "python",
   "pygments_lexer": "ipython3",
   "version": "3.9.12"
  }
 },
 "nbformat": 4,
 "nbformat_minor": 5
}
